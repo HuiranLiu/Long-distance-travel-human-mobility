{
 "cells": [
  {
   "cell_type": "code",
   "execution_count": 11,
   "metadata": {},
   "outputs": [],
   "source": [
    "import numpy as np\n",
    "import pandas as pd\n",
    "import matplotlib\n",
    "%matplotlib inline\n",
    "from matplotlib import pyplot as plt\n",
    "from scipy.stats import wasserstein_distance\n",
    "from statsmodels.distributions.empirical_distribution import ECDF\n",
    "import datetime\n",
    "import seaborn as sns\n",
    "import math\n",
    "import random\n",
    "from numpy import exp\n",
    "#import pyreadstat\n",
    "\n",
    "from scipy.optimize import curve_fit\n",
    "\n",
    "import json\n",
    "\n",
    "#Avoiding Type 3 fonts in matplotlib plots\n",
    "matplotlib.rcParams['pdf.fonttype'] = 42\n",
    "matplotlib.rcParams['ps.fonttype'] = 42\n",
    "matplotlib.rcParams['font.family'] = 'Arial'"
   ]
  },
  {
   "cell_type": "code",
   "execution_count": 12,
   "metadata": {},
   "outputs": [],
   "source": [
    "font = {'size'   : 15}\n",
    "\n",
    "matplotlib.rc('font', **font)\n",
    "matplotlib.rc('lines', linewidth=2.0)\n",
    "matplotlib.rc('lines', markersize=8)"
   ]
  },
  {
   "cell_type": "code",
   "execution_count": 13,
   "metadata": {},
   "outputs": [],
   "source": [
    "res='results_mobility/'"
   ]
  },
  {
   "cell_type": "markdown",
   "metadata": {},
   "source": [
    "# Datasets Reading"
   ]
  },
  {
   "cell_type": "markdown",
   "metadata": {},
   "source": [
    "### MiD Data 2017\n",
    "Mobilität in Deutschland\n",
    "\n",
    "The loading of this data set requires you to have acquired the MiD 2017 data, which is not public and must be requested via https://daten.clearingstelle-verkehr.de/order-form.html .\n",
    "Only execute these code blocks in case you acquired the data set."
   ]
  },
  {
   "cell_type": "code",
   "execution_count": 4,
   "metadata": {},
   "outputs": [
    {
     "name": "stdout",
     "output_type": "stream",
     "text": [
      "(960619, 6)\n"
     ]
    },
    {
     "data": {
      "text/html": [
       "<div>\n",
       "<style scoped>\n",
       "    .dataframe tbody tr th:only-of-type {\n",
       "        vertical-align: middle;\n",
       "    }\n",
       "\n",
       "    .dataframe tbody tr th {\n",
       "        vertical-align: top;\n",
       "    }\n",
       "\n",
       "    .dataframe thead th {\n",
       "        text-align: right;\n",
       "    }\n",
       "</style>\n",
       "<table border=\"1\" class=\"dataframe\">\n",
       "  <thead>\n",
       "    <tr style=\"text-align: right;\">\n",
       "      <th></th>\n",
       "      <th>ST_MONAT</th>\n",
       "      <th>ST_JAHR</th>\n",
       "      <th>W_ZWECK</th>\n",
       "      <th>wegkm</th>\n",
       "      <th>hvm</th>\n",
       "      <th>hvm_diff2</th>\n",
       "    </tr>\n",
       "  </thead>\n",
       "  <tbody>\n",
       "    <tr>\n",
       "      <th>0</th>\n",
       "      <td>3</td>\n",
       "      <td>2017</td>\n",
       "      <td>1</td>\n",
       "      <td>21.85</td>\n",
       "      <td>4</td>\n",
       "      <td>9</td>\n",
       "    </tr>\n",
       "    <tr>\n",
       "      <th>1</th>\n",
       "      <td>3</td>\n",
       "      <td>2017</td>\n",
       "      <td>5</td>\n",
       "      <td>0.39</td>\n",
       "      <td>1</td>\n",
       "      <td>1</td>\n",
       "    </tr>\n",
       "    <tr>\n",
       "      <th>2</th>\n",
       "      <td>3</td>\n",
       "      <td>2017</td>\n",
       "      <td>8</td>\n",
       "      <td>21.85</td>\n",
       "      <td>4</td>\n",
       "      <td>9</td>\n",
       "    </tr>\n",
       "  </tbody>\n",
       "</table>\n",
       "</div>"
      ],
      "text/plain": [
       "   ST_MONAT  ST_JAHR  W_ZWECK  wegkm  hvm  hvm_diff2\n",
       "0         3     2017        1  21.85    4          9\n",
       "1         3     2017        5   0.39    1          1\n",
       "2         3     2017        8  21.85    4          9"
      ]
     },
     "execution_count": 4,
     "metadata": {},
     "output_type": "execute_result"
    }
   ],
   "source": [
    "# data reading\n",
    "'''\n",
    "wegkm: wegelänge, path length\n",
    "hvm: hauptverkehrsmittel, main mode of transport\n",
    "hvm_diff2: hauptverkehrsmittel (stärker differenziert), more differentiated\n",
    "\n",
    "'''\n",
    "df_MiD=pd.read_csv('../data/MiD2017_Wege.csv',decimal=',',sep=';',usecols=['wegkm','hvm','hvm_diff2','W_ZWECK','ST_JAHR','ST_MONAT'])\n",
    "print(df_MiD.shape)\n",
    "#exclude unwanted lines with \"unknown\" distance value et al\n",
    "df_MiD=df_MiD[df_MiD.wegkm.isin([9994,9999,70703]) == False]\n",
    "df_MiD.head(3)"
   ]
  },
  {
   "cell_type": "code",
   "execution_count": 5,
   "metadata": {},
   "outputs": [],
   "source": [
    "# Different transport modes extraction\n",
    "df_MiD_walk =df_MiD[df_MiD.hvm.isin([1]) == True] # Walk\n",
    "df_MiD_bike = df_MiD[df_MiD.hvm.isin([2]) == True] # Bicycle (incl. Ebike)\n",
    "df_MiD_autopass = df_MiD[df_MiD.hvm.isin([3]) == True] # Auto Passengers\n",
    "df_MiD_autodriver = df_MiD[df_MiD.hvm.isin([4]) == True] # Auto Drivers\n",
    "\n",
    "df_MiD_public=df_MiD[df_MiD.hvm.isin([5]) == True] #public\n",
    "# Public Transport w/o long distance vehicles,short range\n",
    "df_MiD_SRpublic=df_MiD_public[df_MiD_public.hvm_diff2.isin([19,20,21,22,23])==False] \n",
    "# long range\n",
    "df_MiD_LRpublic=df_MiD_public[df_MiD_public.hvm_diff2.isin([20,21,22,23])==True] "
   ]
  },
  {
   "cell_type": "markdown",
   "metadata": {},
   "source": [
    "### NHTS17 Data\n",
    "American travel and trip data\n",
    "\n",
    "The data is public and can be acquired via https://nhts.ornl.gov/downloads\n",
    "The relevant file is `trippub.csv`"
   ]
  },
  {
   "cell_type": "code",
   "execution_count": 45,
   "metadata": {},
   "outputs": [
    {
     "name": "stdout",
     "output_type": "stream",
     "text": [
      "(923572, 3)\n"
     ]
    },
    {
     "data": {
      "text/html": [
       "<div>\n",
       "<style scoped>\n",
       "    .dataframe tbody tr th:only-of-type {\n",
       "        vertical-align: middle;\n",
       "    }\n",
       "\n",
       "    .dataframe tbody tr th {\n",
       "        vertical-align: top;\n",
       "    }\n",
       "\n",
       "    .dataframe thead th {\n",
       "        text-align: right;\n",
       "    }\n",
       "</style>\n",
       "<table border=\"1\" class=\"dataframe\">\n",
       "  <thead>\n",
       "    <tr style=\"text-align: right;\">\n",
       "      <th></th>\n",
       "      <th>TRPMILES</th>\n",
       "      <th>TRPTRANS</th>\n",
       "      <th>WHYTRP1S</th>\n",
       "    </tr>\n",
       "  </thead>\n",
       "  <tbody>\n",
       "    <tr>\n",
       "      <th>0</th>\n",
       "      <td>5.244</td>\n",
       "      <td>3</td>\n",
       "      <td>20</td>\n",
       "    </tr>\n",
       "    <tr>\n",
       "      <th>1</th>\n",
       "      <td>5.149</td>\n",
       "      <td>3</td>\n",
       "      <td>1</td>\n",
       "    </tr>\n",
       "    <tr>\n",
       "      <th>2</th>\n",
       "      <td>84.004</td>\n",
       "      <td>6</td>\n",
       "      <td>1</td>\n",
       "    </tr>\n",
       "  </tbody>\n",
       "</table>\n",
       "</div>"
      ],
      "text/plain": [
       "   TRPMILES  TRPTRANS  WHYTRP1S\n",
       "0     5.244         3        20\n",
       "1     5.149         3         1\n",
       "2    84.004         6         1"
      ]
     },
     "execution_count": 45,
     "metadata": {},
     "output_type": "execute_result"
    }
   ],
   "source": [
    "# data reading\n",
    "# TRPMILES: Trip distance in miles, derived from route geometry returned\n",
    "# TRPTRANS: Trip Mode, derived \n",
    "# WHYTRP1S: Trip purpose summary\n",
    "df_Nhts=pd.read_csv('data/trippub_2017NHTS.csv',decimal='.',sep=',',usecols=[\"TRPMILES\", \"TRPTRANS\",\"WHYTRP1S\"])\n",
    "print(df_Nhts.shape)\n",
    "df_Nhts.head(3)"
   ]
  },
  {
   "cell_type": "code",
   "execution_count": 46,
   "metadata": {},
   "outputs": [],
   "source": [
    "# Filter the data set by transport modes and convert trip lengths from miles to kilometers\n",
    "\n",
    "df_Nhts_walk =df_Nhts['TRPMILES'][df_Nhts.TRPTRANS.isin([1]) == True]*1.60934 # Walk and transform to km\n",
    "df_Nhts_bike = df_Nhts['TRPMILES'][df_Nhts.TRPTRANS.isin([2]) == True]*1.60934 # Bicycle and transform to km\n",
    "#3auto 4suv 5van 6 pick up truck 18rentalcar\n",
    "df_Nhts_auto=df_Nhts['TRPMILES'][df_Nhts.TRPTRANS.isin([3,4,5,6,18])==True]*1.60934   #Auto\n",
    "# Public Transport short distance\n",
    "#10school bus, 11public bus, 12paratransit / dial-a-ride, 13private/charter/tour/shutnhtse bus, 15amtrack / commuter rail, 16subway, 17taxi /limo (incl uber)\n",
    "df_Nhts_SRpublic=df_Nhts['TRPMILES'][df_Nhts.TRPTRANS.isin([10,11,12,13,16,17])==True]*1.60934  \n",
    "# long distance public transport\n",
    "#14City-to-city bus (Greyhound, Megabus), 19Airplane, 20Boat/ferry/water taxi\n",
    "df_Nhts_LRpublic=df_Nhts['TRPMILES'][df_Nhts.TRPTRANS.isin([14,19,20])==True]*1.60934  "
   ]
  },
  {
   "cell_type": "markdown",
   "metadata": {},
   "source": [
    "# Power-law trend in short- and medium-distance trips\n",
    "\n",
    "In this section, we fit the CCDF of a power-law trend $f(x) = C \\cdot x^{-(\\alpha-1)}$ to the CCDF of our emperical data.\n",
    "\n",
    "We only fit this trend towards a certain range of the data, which showed a linear trend in a  log-log plot"
   ]
  },
  {
   "cell_type": "code",
   "execution_count": 47,
   "metadata": {},
   "outputs": [],
   "source": [
    "'''\n",
    "There are a total of 4 sub-datasets, 3 of which have been annotated for successful execution of the script,\n",
    "If you want to see the other datasets, uncomment them accordingly.\n",
    "\n",
    "- Walking in MiD 2017\n",
    "- MiD Driving 2017\n",
    "- NHTS Driving 2017\n",
    "- NHTS Short-Distance Public Transport 2017\n",
    "'''\n",
    "\n",
    "# ----- Walking in MiD 2017\n",
    "#df_vec=df_MiD_walk['wegkm'].copy() \n",
    "#t_err_min_distance=2.9  \n",
    "#t_err_max_distance=30 \n",
    "# select the data trips between min and max distance to have a nicer observation\n",
    "#min_distance=1\n",
    "#max_distance=100\n",
    "\n",
    "# ----- MiD Driving\n",
    "# df_vec=df_MiD_autodriver['wegkm'].copy() # Auto Driver in MiD 2017\n",
    "# t_err_min_distance=20\n",
    "# t_err_max_distance=200\n",
    "# min_distance=10\n",
    "# max_distance=500\n",
    "\n",
    "# ----- NHTS Driving \n",
    "df_vec=df_Nhts_auto.copy() #Auto Driver in Nhts 17\n",
    "\n",
    "# The following two values give the start and end of the\n",
    "# power-law trend. We identified them manually by locating a \n",
    "# linear trend in the log-log CCDF of the data \n",
    "t_err_min_distance=20 \n",
    "t_err_max_distance=200\n",
    "\n",
    "# Limits the considered emperical data to a certain range of distances\n",
    "min_distance=10\n",
    "max_distance=500\n",
    "\n",
    "\n",
    "# -----  NHTS Short-Distance Public Transport\n",
    "# df_vec=df_Nhts_SRpublic.copy() #Short range public in Nhts17 \n",
    "# t_err_min_distance=20\n",
    "# t_err_max_distance=500\n",
    "# # select the data between min distance 10km and max distance 1000km\n",
    "# min_distance=10\n",
    "# max_distance=1000\n",
    "\n",
    "df_vec=df_vec[df_vec.between(min_distance,max_distance)]"
   ]
  },
  {
   "cell_type": "code",
   "execution_count": 48,
   "metadata": {},
   "outputs": [],
   "source": [
    "'''\n",
    "Returns the y-value of a given point x in the CCDF of the emperical data\n",
    "'''\n",
    "def cal_y_ccdf(data,x):\n",
    "    \n",
    "    sorted_data = np.sort(data)\n",
    "    linspaced = np.linspace(0, 1, len(data), endpoint=False)\n",
    "    y=1-linspaced\n",
    "    \n",
    "    return np.interp(x, sorted_data,y)"
   ]
  },
  {
   "cell_type": "markdown",
   "metadata": {},
   "source": [
    "To find values of $C$ and $\\alpha$ that fit the trend $F(x) = C/x^{\\alpha-1}$ observed between `x_1 = t_err_min_distance` and `x_2= t_err_min_distance`, we analytically solve for values such that $F(x_1) = y_1$ and $F(x_2) = y_2$.\n",
    "The values of $y_1$ and $y_2$ describe the values of the emperical CCDF at points $x_1$ and $x_2$, respectively."
   ]
  },
  {
   "cell_type": "code",
   "execution_count": 49,
   "metadata": {},
   "outputs": [],
   "source": [
    "X1=t_err_min_distance\n",
    "X2=t_err_max_distance\n",
    "Y1=cal_y_ccdf(df_vec,X1)\n",
    "Y2=cal_y_ccdf(df_vec,X2)\n",
    "\n",
    "alp=(math.log(Y1)-math.log(Y2))/(math.log(X2)-math.log(X1)) + 1\n",
    "C=Y1*(X1**(alp-1))"
   ]
  },
  {
   "cell_type": "code",
   "execution_count": 50,
   "metadata": {},
   "outputs": [],
   "source": [
    "''' Plot the CCDF\n",
    "\n",
    "data: the dataset used to plot the ccdf\n",
    "lb: name of the dataset (for labelling purposes)\n",
    "X1,X2: start and end of the power-law trend\n",
    "C: calculated value of C\n",
    "Alp: calculated value of alpha \n",
    "\n",
    "'''\n",
    "\n",
    "def ccdf_draw(data,lb,X1,X2,C,alp):\n",
    "    fig, ax = plt.subplots(figsize=(3.54*1.5,2.83*1.5))\n",
    "        \n",
    "    sorted_data = np.sort(data)\n",
    "    linspaced = np.linspace(0, 1, len(data), endpoint=False)\n",
    "    ax.plot(sorted_data, 1-linspaced,label='Empirical data',rasterized=False,markersize=5,alpha=0.8,linewidth=5)\n",
    "\n",
    "    # Number of samples to generate\n",
    "    num_samples=20\n",
    "    # 100 linearly spaced numbers\n",
    "    s = np.linspace(X1,X2,num_samples)\n",
    "    # the function\n",
    "    t = C/(s**(alp-1))\n",
    "    \n",
    "    # plot the function\n",
    "    ax.plot(s,t, 'r',linewidth=6,label='Power-law')\n",
    "        \n",
    "    plt.xlabel('Trip Length (km)')\n",
    "    plt.ylabel('CCDF')\n",
    "    leg = ax.legend(title=lb,loc='lower left',alignment='left')\n",
    "    leg.get_title().set_fontsize('15')\n",
    "\n",
    "    plt.yscale(\"log\")\n",
    "    plt.xscale(\"log\")\n",
    "    plt.grid()\n",
    "    plt.show()\n"
   ]
  },
  {
   "cell_type": "code",
   "execution_count": 51,
   "metadata": {
    "scrolled": false
   },
   "outputs": [
    {
     "data": {
      "image/png": "[encoded data removed]",
      "text/plain": [
       "<Figure size 531x424.5 with 1 Axes>"
      ]
     },
     "metadata": {},
     "output_type": "display_data"
    }
   ],
   "source": [
    "# ccdf_draw(df_vec,'MiD Walking',X1,X2,C,alp)\n",
    "# ccdf_draw(df_vec,'MiD Driving',X1,X2,C,alp)\n",
    "ccdf_draw(df_vec,'NHTS Driving',X1,X2,C,alp)\n",
    "# ccdf_draw(df_vec,'NHTS Short-Distance\\nPublic Transport',X1,X2,C,alp)"
   ]
  }
 ],
 "metadata": {
  "kernelspec": {
   "display_name": "Python 3 (ipykernel)",
   "language": "python",
   "name": "python3"
  },
  "language_info": {
   "codemirror_mode": {
    "name": "ipython",
    "version": 3
   },
   "file_extension": ".py",
   "mimetype": "text/x-python",
   "name": "python",
   "nbconvert_exporter": "python",
   "pygments_lexer": "ipython3",
   "version": "3.9.6"
  }
 },
 "nbformat": 4,
 "nbformat_minor": 4
}
